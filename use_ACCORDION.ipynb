{
 "cells": [
  {
   "cell_type": "code",
   "execution_count": 12,
   "metadata": {},
   "outputs": [],
   "source": [
    "reading = '/Users/jasmine/Downloads/MachineReadingOutput.csv'\n",
    "baseline = '/Users/jasmine/Downloads/BooleanTcell.xlsx'\n",
    "out_dir = '/Users/jasmine/Desktop/outputAcc/'\n",
    "return_path_TH = 5\n",
    "inflation = 2 "
   ]
  },
  {
   "cell_type": "code",
   "execution_count": 13,
   "metadata": {},
   "outputs": [],
   "source": [
    "import pandas as pd\n",
    "import re\n",
    "import os\n",
    "from markovCluster import runMarkovCluster\n",
    "from markovCluster import extend_model\n",
    "import argparse\n",
    "import networkx as nx\n",
    "import pickle\n",
    "_VALID_CHARS = r'a-zA-Z0-9\\@\\_\\/'"
   ]
  },
  {
   "cell_type": "code",
   "execution_count": 14,
   "metadata": {},
   "outputs": [],
   "source": [
    "from runAccordion import get_model\n",
    "from runAccordion import getVariableName\n",
    "from runAccordion import parseExtension"
   ]
  },
  {
   "cell_type": "code",
   "execution_count": 15,
   "metadata": {},
   "outputs": [
    {
     "name": "stdout",
     "output_type": "stream",
     "text": [
      "mcl /Users/jasmine/Desktop/outputAcc/abc_model --abc -I 2 -o /Users/jasmine/Desktop/outputAcc/markov_cluster\n"
     ]
    }
   ],
   "source": [
    "os.mkdir(out_dir)\n",
    "model_dict, regulators = get_model(baseline)\n",
    "exttt=parseExtension(model_dict, reading)\n",
    "res,new_base_model = runMarkovCluster(out_dir,exttt,model_dict,inflation)"
   ]
  },
  {
   "cell_type": "code",
   "execution_count": null,
   "metadata": {},
   "outputs": [],
   "source": []
  }
 ],
 "metadata": {
  "kernelspec": {
   "display_name": "Python 3",
   "language": "python",
   "name": "python3"
  },
  "language_info": {
   "codemirror_mode": {
    "name": "ipython",
    "version": 3
   },
   "file_extension": ".py",
   "mimetype": "text/x-python",
   "name": "python",
   "nbconvert_exporter": "python",
   "pygments_lexer": "ipython3",
   "version": "3.6.5"
  }
 },
 "nbformat": 4,
 "nbformat_minor": 2
}
